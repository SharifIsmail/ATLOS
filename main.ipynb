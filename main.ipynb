{
 "cells": [
  {
   "cell_type": "code",
   "execution_count": 2,
   "metadata": {},
   "outputs": [
    {
     "name": "stderr",
     "output_type": "stream",
     "text": [
      "INFO:src.document_processor:Successfully extracted text from example_folder\\Define the context in which it is .txt\n",
      "INFO:src.document_processor:Successfully extracted text from example_folder\\New Microsoft Word Document.docx\n",
      "INFO:src.document_processor:Successfully extracted text from example_folder\\Screenshot 2024-05-22 144510.png\n",
      "INFO:src.document_processor:Successfully extracted text from example_folder\\UI Libraries.txt\n"
     ]
    },
    {
     "name": "stdout",
     "output_type": "stream",
     "text": [
      "\\*\n",
      "--------------------------------------------------------------------------------\n",
      "Define the context in which it is used \\*\n",
      "--------------------------------------------------------------------------------\n",
      "Look at comparable \\*\n",
      "Product Architecture - Component Level 1.\n",
      "--------------------------------------------------------------------------------\n",
      "Apperance Model 2.\n",
      "--------------------------------------------------------------------------------\n",
      "Prove of\n",
      "Concept 3.\n",
      "--------------------------------------------------------------------------------\n",
      "Minimum Order Quantity: 1000 to 5000\n",
      "\n",
      "--------------------------------------------------------------------------------\n",
      "This is a DOCX Document\n",
      "\n",
      "--------------------------------------------------------------------------------\n",
      "& oO G © leastsquarecom \\| o - @ x LEASTSQUARE Products Company Career\n",
      "Contact Us Subscribe eee Dy 6B iwacsssquare 'om r) Forecasting When\n",
      "Accuracy is Paramount Enabling cutting-edge machine-based financial\n",
      "analyses and insights for portfolio managers, fund LEASTSQUARE senue and\n",
      "COGS for calendar year 2023 \"Revenue\" and \"COGS managers, and financial\n",
      "analysts.\n",
      "--------------------------------------------------------------------------------\n",
      "Simple Interface.\n",
      "--------------------------------------------------------------------------------\n",
      "Sophisticated Results.\n",
      "\n",
      "--------------------------------------------------------------------------------\n",
      "UI Libraries Using Tailwind CSS: - Shadcn/ui\n",
      "\n",
      "--------------------------------------------------------------------------------\n"
     ]
    }
   ],
   "source": [
    "from src import document_processor\n",
    "# Define the paths to be processed (can be a single path or a list of paths)\n",
    "paths = [\"example_folder\"]\n",
    "\n",
    "# Initialize the DocumentProcessor\n",
    "processor = document_processor.DocumentProcessor(paths)\n",
    "\n",
    "# Process the documents and get the chunks\n",
    "chunks = processor.process_documents(chunk_method='sentence')\n",
    "\n",
    "# Print the chunks\n",
    "for chunk in chunks:\n",
    "    print(chunk)\n",
    "    print(\"-\" * 80)"
   ]
  }
 ],
 "metadata": {
  "kernelspec": {
   "display_name": ".venv",
   "language": "python",
   "name": "python3"
  },
  "language_info": {
   "codemirror_mode": {
    "name": "ipython",
    "version": 3
   },
   "file_extension": ".py",
   "mimetype": "text/x-python",
   "name": "python",
   "nbconvert_exporter": "python",
   "pygments_lexer": "ipython3",
   "version": "3.12.3"
  }
 },
 "nbformat": 4,
 "nbformat_minor": 2
}
